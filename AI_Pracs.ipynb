{
  "nbformat": 4,
  "nbformat_minor": 0,
  "metadata": {
    "colab": {
      "name": "AI Pracs",
      "provenance": [],
      "collapsed_sections": []
    },
    "kernelspec": {
      "name": "python3",
      "display_name": "Python 3"
    }
  },
  "cells": [
    {
      "cell_type": "markdown",
      "metadata": {
        "id": "CslxIxbOwlHA",
        "colab_type": "text"
      },
      "source": [
        "#BFS"
      ]
    },
    {
      "cell_type": "code",
      "metadata": {
        "id": "9j1HXkSSwjmL",
        "colab_type": "code",
        "colab": {
          "base_uri": "https://localhost:8080/",
          "height": 50
        },
        "outputId": "36ec635b-146a-4366-a747-996421e70be1"
      },
      "source": [
        "graph = {\n",
        "  'Arad' : ['Sibiu', 'Timisoara', 'Zerind'],\n",
        "  'Bucharest' : ['Fagaras', 'Giurgiu', 'Pitesti', 'Urziceni'],\n",
        "  'Craiova' : ['Dobreta', 'Pitesti', 'Rimnicu Vilcea'],\n",
        "  'Dobreta' : ['Craiova', 'Mehadia'],\n",
        "  'Eforie' : ['Hirsova'],\n",
        "  'Fagaras' : ['Sibiu', 'Bucharest'],\n",
        "  'Giurgiu': ['Bucharest'],\n",
        "  'Hirsova': ['Eforie', 'Urziceni'],\n",
        "  'Iasi': ['Neamt', 'Vaslui'],\n",
        "  'Lugoj': ['Mehadia', 'Timisoara'],\n",
        "  'Mehadia': ['Dobreta', 'Lugoj'],\n",
        "  'Oradea': ['Sibiu', 'Zerind'],\n",
        "  'Pitesti': ['Bucharest', 'Craiova', 'Rimnicu Vilcea'],\n",
        "  'Rimnicu Vilcea': ['Craiova','Pitesti', 'Sibiu'],\n",
        "  'Sibiu': ['Arad', 'Fagaras', 'Rimnicu Vilcea', 'Oradea'],\n",
        "  'Timisoara': ['Arad', 'Lugoj'],\n",
        "  'Urziceni': ['Bucharest', 'Hirsova', 'Iasi'],\n",
        "  'Vaslui': ['Iasi', 'Urziceni'],\n",
        "  'Zerind': ['Arad', 'Oradea']\n",
        "}\n",
        "\n",
        "visited = [] \n",
        "queue = []    \n",
        "\n",
        "def bfs(visited, graph, node):\n",
        "  visited.append(node)\n",
        "  queue.append(node)\n",
        "\n",
        "  while queue:\n",
        "    s = queue.pop(0) \n",
        "    print (s) \n",
        "\n",
        "    for neighbour in graph[s]:\n",
        "      if neighbour not in visited:\n",
        "        visited.append(neighbour)\n",
        "        queue.append(neighbour)\n",
        "\n",
        "# Driver Code\n",
        "bfs(visited, graph, 'Bucharest')"
      ],
      "execution_count": 3,
      "outputs": [
        {
          "output_type": "stream",
          "text": [
            "E\n",
            "F\n"
          ],
          "name": "stdout"
        }
      ]
    },
    {
      "cell_type": "code",
      "execution_count": null,
      "metadata": {},
      "outputs": [],
      "source": []
    }
  ]
}